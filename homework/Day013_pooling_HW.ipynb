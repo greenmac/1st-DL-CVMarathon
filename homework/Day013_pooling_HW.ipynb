{
 "cells": [
  {
   "cell_type": "markdown",
   "metadata": {},
   "source": [
    "## 『作業內容』\n",
    "####   依照指示，搭建Maxpooling層與全連接層"
   ]
  },
  {
   "cell_type": "markdown",
   "metadata": {},
   "source": [
    "## 『目標』\n",
    "####   了解Maxpooling的原理與CNN、FC層連結的方式"
   ]
  },
  {
   "cell_type": "code",
   "execution_count": 1,
   "metadata": {},
   "outputs": [
    {
     "name": "stderr",
     "output_type": "stream",
     "text": "Using TensorFlow backend.\n"
    }
   ],
   "source": [
    "from keras.models import Sequential  #用來啟動 NN\n",
    "from keras.layers import Conv2D  # Convolution Operation\n",
    "from keras.layers import MaxPooling2D # Pooling\n",
    "from keras.layers import Flatten\n",
    "from keras.layers import Dense # Fully Connected Networks\n",
    "from keras.layers import GlobalAveragePooling2D"
   ]
  },
  {
   "cell_type": "code",
   "execution_count": 2,
   "metadata": {},
   "outputs": [],
   "source": [
    "input_shape = (32, 32, 3)\n",
    "\n",
    "model = Sequential()\n",
    "\n",
    "model.add(Conv2D(32, kernel_size=(3, 3), padding='same',input_shape=input_shape))\n",
    "model.add(MaxPooling2D())  ##pooling_size=2,2 strides=2,2 輸出feature map 大小為多少？\n",
    "## Params = (Kernel_size_H * Kernel_size_W * input_channels + 1) * Kernel numbers = (3 * 3 * 3 + 1) * 32 = 896\n",
    "## 第一層Convolution\n",
    "## Output = (Input - Kernel_size + 2 * padding) / stride + 1 = (32 - 3 + 2 * 1) / 1 + 1 = 32\n",
    "## Pooling\n",
    "## Output = (Input - Kernel_size) / stride + 1 = (32 - 2) / 2 + 1 = 16\n",
    "\n",
    "model.add(Conv2D(64, kernel_size=(3, 3), padding='same'))\n",
    "model.add(MaxPooling2D())##pooling_size=2,2 strides=2,2 輸出feature map 大小為多少？\n",
    "## Params = (Kernel_size_H * Kernel_size_W * input_channels + 1) * Kernel numbers = (3 * 3 * 32 + 1) * 64 = 18496\n",
    "## 第二層Convolution\n",
    "## Output = (Input - Kernel_size + 2 * padding) / stride + 1 = (16 - 3 + 2 * 1) / 1 + 1 = 16\n",
    "## Pooling\n",
    "## Output = (Input - Kernel_size) / stride + 1 = (16 - 2) / 2 + 1 = 8\n",
    "\n",
    "model.add(Conv2D(128, kernel_size=(3, 3), padding='same'))\n",
    "model.add(MaxPooling2D())##pooling_size=1,1 strides=1,1 輸出feature map 大小為多少？\n",
    "## Params = (Kernel_size_H * Kernel_size_W * input_channels + 1) * Kernel numbers = (3 * 3 * 64 + 1) * 128 = 73856\n",
    "## 第三層Convolution\n",
    "## Output = (Input - Kernel_size + 2 * padding) / stride + 1 = (8 - 3 + 2 * 1) / 1 + 1 = 8\n",
    "## Pooling\n",
    "## Output = (Input - Kernel_size) / stride + 1 = (8 - 1) / 1 + 1 = 8\n",
    "\n",
    "model.add(Conv2D(10, kernel_size=(3, 3), padding='same'))\n",
    "## Params = (Kernel_size_H * Kernel_size_W * input_channels + 1) * Kernel numbers = (3 * 3 * 128 + 1) * 10 = 11530\n",
    "## 第四層Convolution\n",
    "## Output = (Input - Kernel_size + 2 * padding) / stride + 1 = (8 - 3 + 2 * 1) / 1 + 1 = 8\n",
    "\n",
    "model.add(Flatten()) ##Flatten完尺寸如何變化？\n",
    "#model.add(GlobalAveragePooling2D()) #關掉Flatten，使用GlobalAveragePooling2D，完尺寸如何變化？\n",
    "\n",
    "model.add(Dense(units=28, input_shape=input_shape)) ##全連接層使用28個units"
   ]
  },
  {
   "cell_type": "code",
   "execution_count": 3,
   "metadata": {},
   "outputs": [
    {
     "name": "stdout",
     "output_type": "stream",
     "text": "Model: \"sequential_1\"\n_________________________________________________________________\nLayer (type)                 Output Shape              Param #   \n=================================================================\nconv2d_1 (Conv2D)            (None, 32, 32, 32)        896       \n_________________________________________________________________\nmax_pooling2d_1 (MaxPooling2 (None, 16, 16, 32)        0         \n_________________________________________________________________\nconv2d_2 (Conv2D)            (None, 16, 16, 64)        18496     \n_________________________________________________________________\nmax_pooling2d_2 (MaxPooling2 (None, 8, 8, 64)          0         \n_________________________________________________________________\nconv2d_3 (Conv2D)            (None, 8, 8, 128)         73856     \n_________________________________________________________________\nmax_pooling2d_3 (MaxPooling2 (None, 4, 4, 128)         0         \n_________________________________________________________________\nconv2d_4 (Conv2D)            (None, 4, 4, 10)          11530     \n_________________________________________________________________\nflatten_1 (Flatten)          (None, 160)               0         \n_________________________________________________________________\ndense_1 (Dense)              (None, 28)                4508      \n=================================================================\nTotal params: 109,286\nTrainable params: 109,286\nNon-trainable params: 0\n_________________________________________________________________\n"
    }
   ],
   "source": [
    "model.summary()"
   ]
  },
  {
   "cell_type": "code",
   "execution_count": 4,
   "metadata": {},
   "outputs": [
    {
     "name": "stdout",
     "output_type": "stream",
     "text": "Model: \"sequential_2\"\n_________________________________________________________________\nLayer (type)                 Output Shape              Param #   \n=================================================================\nconv2d_5 (Conv2D)            (None, 32, 32, 32)        896       \n_________________________________________________________________\nmax_pooling2d_4 (MaxPooling2 (None, 16, 16, 32)        0         \n_________________________________________________________________\nconv2d_6 (Conv2D)            (None, 16, 16, 64)        18496     \n_________________________________________________________________\nmax_pooling2d_5 (MaxPooling2 (None, 8, 8, 64)          0         \n_________________________________________________________________\nconv2d_7 (Conv2D)            (None, 8, 8, 128)         73856     \n_________________________________________________________________\nmax_pooling2d_6 (MaxPooling2 (None, 8, 8, 128)         0         \n_________________________________________________________________\nconv2d_8 (Conv2D)            (None, 8, 8, 10)          11530     \n_________________________________________________________________\ndense_2 (Dense)              (None, 8, 8, 28)          308       \n=================================================================\nTotal params: 105,086\nTrainable params: 105,086\nNon-trainable params: 0\n_________________________________________________________________\n"
    }
   ],
   "source": [
    "'''\n",
    "沒有Flatten Layer\n",
    "'''\n",
    "model = Sequential()\n",
    "\n",
    "model.add(Conv2D(32, kernel_size=(3, 3), padding='same', input_shape=input_shape))\n",
    "model.add(MaxPooling2D(strides=(2, 2)))\n",
    "\n",
    "model.add(Conv2D(64, kernel_size=(3, 3), padding='same'))\n",
    "model.add(MaxPooling2D(strides=(2, 2)))\n",
    "\n",
    "model.add(Conv2D(128, kernel_size=(3, 3), padding='same'))\n",
    "model.add(MaxPooling2D(pool_size=(1, 1), strides=(1, 1)))\n",
    "\n",
    "model.add(Conv2D(10, kernel_size=(3, 3), padding='same'))\n",
    "\n",
    "model.add(Dense(units=28, input_shape=input_shape))\n",
    "\n",
    "model.summary()"
   ]
  },
  {
   "cell_type": "code",
   "execution_count": 5,
   "metadata": {},
   "outputs": [
    {
     "name": "stdout",
     "output_type": "stream",
     "text": "Model: \"sequential_3\"\n_________________________________________________________________\nLayer (type)                 Output Shape              Param #   \n=================================================================\nconv2d_9 (Conv2D)            (None, 32, 32, 32)        896       \n_________________________________________________________________\nmax_pooling2d_7 (MaxPooling2 (None, 16, 16, 32)        0         \n_________________________________________________________________\nconv2d_10 (Conv2D)           (None, 16, 16, 64)        18496     \n_________________________________________________________________\nmax_pooling2d_8 (MaxPooling2 (None, 8, 8, 64)          0         \n_________________________________________________________________\nconv2d_11 (Conv2D)           (None, 8, 8, 128)         73856     \n_________________________________________________________________\nmax_pooling2d_9 (MaxPooling2 (None, 8, 8, 128)         0         \n_________________________________________________________________\nconv2d_12 (Conv2D)           (None, 8, 8, 10)          11530     \n_________________________________________________________________\nglobal_average_pooling2d_1 ( (None, 10)                0         \n_________________________________________________________________\ndense_3 (Dense)              (None, 28)                308       \n=================================================================\nTotal params: 105,086\nTrainable params: 105,086\nNon-trainable params: 0\n_________________________________________________________________\n"
    }
   ],
   "source": [
    "'''\n",
    "使用GlobalAveragePooling2D\n",
    "'''\n",
    "model = Sequential()\n",
    "\n",
    "model.add(Conv2D(32, kernel_size=(3, 3), padding='same', input_shape=input_shape))\n",
    "model.add(MaxPooling2D(strides=(2, 2)))\n",
    "\n",
    "model.add(Conv2D(64, kernel_size=(3, 3), padding='same'))\n",
    "model.add(MaxPooling2D(strides=(2, 2)))\n",
    "\n",
    "model.add(Conv2D(128, kernel_size=(3, 3), padding='same'))\n",
    "model.add(MaxPooling2D(pool_size=(1, 1), strides=(1, 1)))\n",
    "\n",
    "model.add(Conv2D(10, kernel_size=(3, 3), padding='same'))\n",
    "model.add(GlobalAveragePooling2D()) #關掉Flatten，使用GlobalAveragePooling2D，完尺寸如何變化？\n",
    "## Output = (Input - Kernel_size + 2 * padding) / stride + 1 = (8 - 1 + 2 * 1) / 0 + 1 = 10\n",
    "\n",
    "model.add(Dense(units=28, input_shape=input_shape))\n",
    "## 使用2D Global Average Pooling取得的參數\n",
    "## Params = (Kernel_size_H * Kernel_size_W * input_channels + 1) * Kernel numbers = (1 * 1 * 10 + 1) * 28 = 308\n",
    "\n",
    "model.summary()"
   ]
  },
  {
   "cell_type": "code",
   "execution_count": null,
   "metadata": {},
   "outputs": [],
   "source": []
  }
 ],
 "metadata": {
  "colab": {
   "name": "池化、全連接層.ipynb",
   "provenance": []
  },
  "kernelspec": {
   "display_name": "Python 3",
   "language": "python",
   "name": "python3"
  },
  "language_info": {
   "codemirror_mode": {
    "name": "ipython",
    "version": 3
   },
   "file_extension": ".py",
   "mimetype": "text/x-python",
   "name": "python",
   "nbconvert_exporter": "python",
   "pygments_lexer": "ipython3",
   "version": "3.7.3"
  }
 },
 "nbformat": 4,
 "nbformat_minor": 1
}