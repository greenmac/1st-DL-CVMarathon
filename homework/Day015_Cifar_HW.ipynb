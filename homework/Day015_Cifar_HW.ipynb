{
 "cells": [
  {
   "cell_type": "markdown",
   "metadata": {},
   "source": [
    "## 『本次練習內容』\n",
    "#### 運用這幾天所學觀念搭建一個CNN分類器"
   ]
  },
  {
   "cell_type": "markdown",
   "metadata": {},
   "source": [
    "## 『本次練習目的』\n",
    "  #### 熟悉CNN分類器搭建步驟與原理\n",
    "  #### 學員們可以嘗試不同搭法，如使用不同的Maxpooling層，用GlobalAveragePooling取代Flatten等等"
   ]
  },
  {
   "cell_type": "code",
   "execution_count": 2,
   "metadata": {},
   "outputs": [],
   "source": [
    "from keras.models import Sequential\n",
    "from keras.layers import Convolution2D\n",
    "from keras.layers import MaxPooling2D\n",
    "from keras.layers import Flatten\n",
    "from keras.layers import Dense\n",
    "from keras.layers import Dropout\n",
    "from keras.layers import BatchNormalization\n",
    "from keras.datasets import cifar10\n",
    "import numpy as np\n",
    "import tensorflow as tf\n",
    "from sklearn.preprocessing import OneHotEncoder\n"
   ]
  },
  {
   "cell_type": "code",
   "execution_count": 3,
   "metadata": {},
   "outputs": [
    {
     "name": "stdout",
     "output_type": "stream",
     "text": "(50000, 32, 32, 3)\n"
    }
   ],
   "source": [
    "(x_train, y_train), (x_test, y_test) = cifar10.load_data()\n",
    "\n",
    "print(x_train.shape) #(50000, 32, 32, 3)\n",
    "\n",
    "## Normalize Data\n",
    "def normalize(X_train,X_test):\n",
    "        mean = np.mean(X_train,axis=(0,1,2,3))\n",
    "        std = np.std(X_train, axis=(0, 1, 2, 3))\n",
    "        X_train = (X_train-mean)/(std+1e-7)\n",
    "        X_test = (X_test-mean)/(std+1e-7) \n",
    "        return X_train, X_test,mean,std\n",
    "    \n",
    "    \n",
    "## Normalize Training and Testset    \n",
    "x_train, x_test,mean_train,std_train = normalize(x_train, x_test) "
   ]
  },
  {
   "cell_type": "code",
   "execution_count": 5,
   "metadata": {},
   "outputs": [],
   "source": [
    "## OneHot Label 由(None, 1)-(None, 10)\n",
    "## ex. label=2,變成[0,0,1,0,0,0,0,0,0,0]\n",
    "one_hot=OneHotEncoder(categories='auto')\n",
    "y_train=one_hot.fit_transform(y_train).toarray()\n",
    "y_test=one_hot.transform(y_test).toarray()"
   ]
  },
  {
   "cell_type": "code",
   "execution_count": 6,
   "metadata": {},
   "outputs": [
    {
     "name": "stderr",
     "output_type": "stream",
     "text": "C:\\Users\\alway\\AppData\\Local\\Programs\\Python\\Python37\\lib\\site-packages\\ipykernel_launcher.py:23: UserWarning: Update your `Dense` call to the Keras 2 API: `Dense(activation=\"softmax\", units=10)`\nEpoch 1/100\n50000/50000 [==============================] - 145s 3ms/step - loss: 1.4985 - accuracy: 0.4720\nEpoch 2/100\n50000/50000 [==============================] - 154s 3ms/step - loss: 1.0655 - accuracy: 0.6224\nEpoch 3/100\n50000/50000 [==============================] - 151s 3ms/step - loss: 0.9168 - accuracy: 0.6759\nEpoch 4/100\n50000/50000 [==============================] - 150s 3ms/step - loss: 0.8193 - accuracy: 0.7133\nEpoch 5/100\n50000/50000 [==============================] - 157s 3ms/step - loss: 0.7365 - accuracy: 0.7450\nEpoch 6/100\n50000/50000 [==============================] - 165s 3ms/step - loss: 0.6513 - accuracy: 0.7730\nEpoch 7/100\n50000/50000 [==============================] - 199s 4ms/step - loss: 0.5763 - accuracy: 0.7976\nEpoch 8/100\n50000/50000 [==============================] - 155s 3ms/step - loss: 0.4954 - accuracy: 0.8268\nEpoch 9/100\n50000/50000 [==============================] - 150s 3ms/step - loss: 0.4244 - accuracy: 0.8534\nEpoch 10/100\n50000/50000 [==============================] - 158s 3ms/step - loss: 0.3564 - accuracy: 0.8765\nEpoch 11/100\n50000/50000 [==============================] - 155s 3ms/step - loss: 0.2953 - accuracy: 0.8988\nEpoch 12/100\n50000/50000 [==============================] - 145s 3ms/step - loss: 0.2473 - accuracy: 0.9164\nEpoch 13/100\n50000/50000 [==============================] - 142s 3ms/step - loss: 0.2057 - accuracy: 0.9306\nEpoch 14/100\n50000/50000 [==============================] - 145s 3ms/step - loss: 0.1757 - accuracy: 0.9414\nEpoch 15/100\n50000/50000 [==============================] - 144s 3ms/step - loss: 0.1558 - accuracy: 0.9472\nEpoch 16/100\n50000/50000 [==============================] - 149s 3ms/step - loss: 0.1276 - accuracy: 0.9567\nEpoch 17/100\n50000/50000 [==============================] - 155s 3ms/step - loss: 0.1225 - accuracy: 0.9581\nEpoch 18/100\n50000/50000 [==============================] - 150s 3ms/step - loss: 0.1173 - accuracy: 0.9600\nEpoch 19/100\n50000/50000 [==============================] - 157s 3ms/step - loss: 0.1006 - accuracy: 0.9664\nEpoch 20/100\n50000/50000 [==============================] - 158s 3ms/step - loss: 0.0904 - accuracy: 0.9691\nEpoch 21/100\n50000/50000 [==============================] - 159s 3ms/step - loss: 0.0810 - accuracy: 0.9742\nEpoch 22/100\n50000/50000 [==============================] - 160s 3ms/step - loss: 0.0885 - accuracy: 0.9705\nEpoch 23/100\n50000/50000 [==============================] - 161s 3ms/step - loss: 0.0805 - accuracy: 0.9729\nEpoch 24/100\n50000/50000 [==============================] - 161s 3ms/step - loss: 0.0784 - accuracy: 0.9735\nEpoch 25/100\n50000/50000 [==============================] - 162s 3ms/step - loss: 0.0659 - accuracy: 0.9774\nEpoch 26/100\n50000/50000 [==============================] - 162s 3ms/step - loss: 0.0688 - accuracy: 0.9771\nEpoch 27/100\n50000/50000 [==============================] - 161s 3ms/step - loss: 0.0547 - accuracy: 0.9820\nEpoch 28/100\n50000/50000 [==============================] - 162s 3ms/step - loss: 0.0612 - accuracy: 0.9799\nEpoch 29/100\n50000/50000 [==============================] - 162s 3ms/step - loss: 0.0622 - accuracy: 0.9791\nEpoch 30/100\n50000/50000 [==============================] - 163s 3ms/step - loss: 0.0625 - accuracy: 0.9787\nEpoch 31/100\n50000/50000 [==============================] - 163s 3ms/step - loss: 0.0526 - accuracy: 0.9820\nEpoch 32/100\n50000/50000 [==============================] - 157s 3ms/step - loss: 0.0641 - accuracy: 0.9788\nEpoch 33/100\n50000/50000 [==============================] - 161s 3ms/step - loss: 0.0528 - accuracy: 0.9828\nEpoch 34/100\n50000/50000 [==============================] - 159s 3ms/step - loss: 0.0548 - accuracy: 0.9822\nEpoch 35/100\n50000/50000 [==============================] - 157s 3ms/step - loss: 0.0475 - accuracy: 0.9841\nEpoch 36/100\n50000/50000 [==============================] - 152s 3ms/step - loss: 0.0357 - accuracy: 0.9881\nEpoch 37/100\n50000/50000 [==============================] - 149s 3ms/step - loss: 0.0436 - accuracy: 0.9858\nEpoch 38/100\n50000/50000 [==============================] - 152s 3ms/step - loss: 0.0537 - accuracy: 0.9821\nEpoch 39/100\n50000/50000 [==============================] - 148s 3ms/step - loss: 0.0450 - accuracy: 0.9850\nEpoch 40/100\n50000/50000 [==============================] - 150s 3ms/step - loss: 0.0387 - accuracy: 0.9873\nEpoch 41/100\n50000/50000 [==============================] - 150s 3ms/step - loss: 0.0403 - accuracy: 0.9867\nEpoch 42/100\n50000/50000 [==============================] - 152s 3ms/step - loss: 0.0405 - accuracy: 0.9871\nEpoch 43/100\n50000/50000 [==============================] - 153s 3ms/step - loss: 0.0460 - accuracy: 0.9854\nEpoch 44/100\n50000/50000 [==============================] - 158s 3ms/step - loss: 0.0467 - accuracy: 0.9848\nEpoch 45/100\n50000/50000 [==============================] - 159s 3ms/step - loss: 0.0371 - accuracy: 0.9875\nEpoch 46/100\n50000/50000 [==============================] - 165s 3ms/step - loss: 0.0326 - accuracy: 0.9892\nEpoch 47/100\n50000/50000 [==============================] - 162s 3ms/step - loss: 0.0395 - accuracy: 0.9869\nEpoch 48/100\n50000/50000 [==============================] - 163s 3ms/step - loss: 0.0294 - accuracy: 0.9906\nEpoch 49/100\n50000/50000 [==============================] - 158s 3ms/step - loss: 0.0381 - accuracy: 0.9880\nEpoch 50/100\n50000/50000 [==============================] - 153s 3ms/step - loss: 0.0353 - accuracy: 0.9880\nEpoch 51/100\n50000/50000 [==============================] - 165s 3ms/step - loss: 0.0396 - accuracy: 0.9880\nEpoch 52/100\n50000/50000 [==============================] - 150s 3ms/step - loss: 0.0280 - accuracy: 0.9906\nEpoch 53/100\n50000/50000 [==============================] - 145s 3ms/step - loss: 0.0248 - accuracy: 0.9919\nEpoch 54/100\n50000/50000 [==============================] - 145s 3ms/step - loss: 0.0368 - accuracy: 0.9883\nEpoch 55/100\n50000/50000 [==============================] - 147s 3ms/step - loss: 0.0309 - accuracy: 0.9906\nEpoch 56/100\n50000/50000 [==============================] - 160s 3ms/step - loss: 0.0324 - accuracy: 0.9895\nEpoch 57/100\n50000/50000 [==============================] - 164s 3ms/step - loss: 0.0298 - accuracy: 0.9903\nEpoch 58/100\n50000/50000 [==============================] - 149s 3ms/step - loss: 0.0277 - accuracy: 0.9911\nEpoch 59/100\n50000/50000 [==============================] - 157s 3ms/step - loss: 0.0284 - accuracy: 0.9909\nEpoch 60/100\n50000/50000 [==============================] - 164s 3ms/step - loss: 0.0228 - accuracy: 0.9926\nEpoch 61/100\n50000/50000 [==============================] - 166s 3ms/step - loss: 0.0370 - accuracy: 0.9883\nEpoch 62/100\n50000/50000 [==============================] - 169s 3ms/step - loss: 0.0291 - accuracy: 0.9905\nEpoch 63/100\n50000/50000 [==============================] - 167s 3ms/step - loss: 0.0223 - accuracy: 0.9927\nEpoch 64/100\n50000/50000 [==============================] - 161s 3ms/step - loss: 0.0225 - accuracy: 0.9931\nEpoch 65/100\n50000/50000 [==============================] - 160s 3ms/step - loss: 0.0298 - accuracy: 0.9899\nEpoch 66/100\n50000/50000 [==============================] - 163s 3ms/step - loss: 0.0305 - accuracy: 0.9898\nEpoch 67/100\n50000/50000 [==============================] - 167s 3ms/step - loss: 0.0255 - accuracy: 0.9920\nEpoch 68/100\n50000/50000 [==============================] - 161s 3ms/step - loss: 0.0207 - accuracy: 0.9933\nEpoch 69/100\n50000/50000 [==============================] - 157s 3ms/step - loss: 0.0297 - accuracy: 0.9902\nEpoch 70/100\n50000/50000 [==============================] - 148s 3ms/step - loss: 0.0229 - accuracy: 0.9930\nEpoch 71/100\n50000/50000 [==============================] - 141s 3ms/step - loss: 0.0267 - accuracy: 0.9914\nEpoch 72/100\n50000/50000 [==============================] - 147s 3ms/step - loss: 0.0273 - accuracy: 0.9914\nEpoch 73/100\n50000/50000 [==============================] - 150s 3ms/step - loss: 0.0274 - accuracy: 0.9913\nEpoch 74/100\n50000/50000 [==============================] - 148s 3ms/step - loss: 0.0205 - accuracy: 0.9933\nEpoch 75/100\n50000/50000 [==============================] - 146s 3ms/step - loss: 0.0206 - accuracy: 0.9935\nEpoch 76/100\n50000/50000 [==============================] - 147s 3ms/step - loss: 0.0181 - accuracy: 0.9942\nEpoch 77/100\n50000/50000 [==============================] - 151s 3ms/step - loss: 0.0284 - accuracy: 0.9910\nEpoch 78/100\n50000/50000 [==============================] - 156s 3ms/step - loss: 0.0175 - accuracy: 0.9940\nEpoch 79/100\n50000/50000 [==============================] - 163s 3ms/step - loss: 0.0243 - accuracy: 0.9918\nEpoch 80/100\n50000/50000 [==============================] - 159s 3ms/step - loss: 0.0238 - accuracy: 0.9926\nEpoch 81/100\n50000/50000 [==============================] - 164s 3ms/step - loss: 0.0211 - accuracy: 0.9935\nEpoch 82/100\n50000/50000 [==============================] - 148s 3ms/step - loss: 0.0206 - accuracy: 0.9930\nEpoch 83/100\n50000/50000 [==============================] - 152s 3ms/step - loss: 0.0147 - accuracy: 0.9953\nEpoch 84/100\n50000/50000 [==============================] - 148s 3ms/step - loss: 0.0193 - accuracy: 0.9934\nEpoch 85/100\n50000/50000 [==============================] - 160s 3ms/step - loss: 0.0259 - accuracy: 0.9921\nEpoch 86/100\n50000/50000 [==============================] - 173s 3ms/step - loss: 0.0250 - accuracy: 0.9920\nEpoch 87/100\n50000/50000 [==============================] - 161s 3ms/step - loss: 0.0188 - accuracy: 0.9939\nEpoch 88/100\n50000/50000 [==============================] - 162s 3ms/step - loss: 0.0161 - accuracy: 0.9943\nEpoch 89/100\n50000/50000 [==============================] - 172s 3ms/step - loss: 0.0225 - accuracy: 0.9928\nEpoch 90/100\n50000/50000 [==============================] - 151s 3ms/step - loss: 0.0216 - accuracy: 0.9934\nEpoch 91/100\n50000/50000 [==============================] - 149s 3ms/step - loss: 0.0244 - accuracy: 0.9922\nEpoch 92/100\n50000/50000 [==============================] - 160s 3ms/step - loss: 0.0183 - accuracy: 0.9938\nEpoch 93/100\n50000/50000 [==============================] - 169s 3ms/step - loss: 0.0106 - accuracy: 0.9964\nEpoch 94/100\n50000/50000 [==============================] - 169s 3ms/step - loss: 0.0130 - accuracy: 0.9954\nEpoch 95/100\n50000/50000 [==============================] - 162s 3ms/step - loss: 0.0230 - accuracy: 0.9927\nEpoch 96/100\n50000/50000 [==============================] - 151s 3ms/step - loss: 0.0218 - accuracy: 0.9933\nEpoch 97/100\n50000/50000 [==============================] - 157s 3ms/step - loss: 0.0208 - accuracy: 0.9935\nEpoch 98/100\n50000/50000 [==============================] - 156s 3ms/step - loss: 0.0132 - accuracy: 0.9961\nEpoch 99/100\n50000/50000 [==============================] - 158s 3ms/step - loss: 0.0118 - accuracy: 0.9959\nEpoch 100/100\n50000/50000 [==============================] - 198s 4ms/step - loss: 0.0236 - accuracy: 0.9929\n"
    },
    {
     "data": {
      "text/plain": "<keras.callbacks.callbacks.History at 0x233020611c8>"
     },
     "execution_count": 6,
     "metadata": {},
     "output_type": "execute_result"
    }
   ],
   "source": [
    "\n",
    "classifier=Sequential()\n",
    "\n",
    "#卷積組合\n",
    "classifier.add(Convolution2D(32, (3, 3), input_shape=(32, 32 ,3), activation='relu'))#32,3,3,input_shape=(32,32,3),activation='relu''\n",
    "classifier.add(BatchNormalization())\n",
    "\n",
    "'''自己決定MaxPooling2D放在哪裡'''\n",
    "#classifier.add(MaxPooling2D(pool_size=(2,2)))\n",
    "\n",
    "#卷積組合\n",
    "classifier.add(Convolution2D(64, (3, 3)))\n",
    "classifier.add(BatchNormalization())\n",
    "\n",
    "classifier.add(MaxPooling2D(pool_size=(2,2)))\n",
    "\n",
    "#flatten\n",
    "classifier.add(Flatten())\n",
    "\n",
    "#FC\n",
    "classifier.add(Dense(units=100, activation='relu')) #output_dim=100,activation=relu\n",
    "\n",
    "#輸出\n",
    "classifier.add(Dense(output_dim=10,activation='softmax'))\n",
    "\n",
    "#超過兩個就要選categorical_crossentrophy\n",
    "classifier.compile(optimizer = 'adam', loss = 'categorical_crossentropy', metrics = ['accuracy'])\n",
    "classifier.fit(x_train,y_train,batch_size=100,epochs=100)"
   ]
  },
  {
   "cell_type": "markdown",
   "metadata": {},
   "source": [
    "## 預測新圖片，輸入影像前處理要與訓練時相同\n",
    "#### ((X-mean)/(std+1e-7) ):這裡的mean跟std是訓練集的\n",
    "## 維度如下方示範"
   ]
  },
  {
   "cell_type": "code",
   "execution_count": 7,
   "metadata": {},
   "outputs": [
    {
     "data": {
      "text/plain": "array([[1.27879776e-25, 0.00000000e+00, 1.45953929e-21, 9.99999642e-01,\n        3.45492055e-07, 0.00000000e+00, 1.09478085e-35, 6.52303583e-36,\n        2.45240001e-31, 0.00000000e+00]], dtype=float32)"
     },
     "execution_count": 7,
     "metadata": {},
     "output_type": "execute_result"
    }
   ],
   "source": [
    "input_example=(np.zeros(shape=(1,32,32,3))-mean_train)/(std_train+1e-7) \n",
    "classifier.predict(input_example)"
   ]
  },
  {
   "cell_type": "code",
   "execution_count": null,
   "metadata": {},
   "outputs": [],
   "source": []
  }
 ],
 "metadata": {
  "kernelspec": {
   "display_name": "Python 3",
   "language": "python",
   "name": "python3"
  },
  "language_info": {
   "codemirror_mode": {
    "name": "ipython",
    "version": 3
   },
   "file_extension": ".py",
   "mimetype": "text/x-python",
   "name": "python",
   "nbconvert_exporter": "python",
   "pygments_lexer": "ipython3",
   "version": "3.7.4"
  }
 },
 "nbformat": 4,
 "nbformat_minor": 2
}