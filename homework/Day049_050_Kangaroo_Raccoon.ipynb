{
 "nbformat": 4,
 "nbformat_minor": 2,
 "metadata": {
  "language_info": {
   "name": "python",
   "codemirror_mode": {
    "name": "ipython",
    "version": 3
   },
   "version": "3.7.4-final"
  },
  "orig_nbformat": 2,
  "file_extension": ".py",
  "mimetype": "text/x-python",
  "name": "python",
  "npconvert_exporter": "python",
  "pygments_lexer": "ipython3",
  "version": 3,
  "kernelspec": {
   "name": "python37464bit235c09e77a3a4be4a0fbcd79d7c7728e",
   "display_name": "Python 3.7.4 64-bit"
  }
 },
 "cells": [
  {
   "cell_type": "code",
   "execution_count": 6,
   "metadata": {},
   "outputs": [
    {
     "name": "stdout",
     "output_type": "stream",
     "text": "Converting yolov3.weights to yolo.h5...\n"
    }
   ],
   "source": [
    "import os\n",
    "# if os.path.exists(\"model_data/yolo.h5\"):\n",
    "#   print(\"路徑存在。\")\n",
    "# else:\n",
    "#   print(\"路徑不存在。\")\n",
    "if not os.path.exists(\"model_data/yolo.h5\"):\n",
    "#   下載 yolov3 的網路權重，並且把權重轉換為 keras 能夠讀取的格式\n",
    "#   print(\"Model doesn't exist, downloading...\")\n",
    "#   os.system(\"wget https://pjreddie.com/media/files/yolov3.weights\")\n",
    "  print(\"Converting yolov3.weights to yolo.h5...\")\n",
    "  os.system(\"python3 convert.py yolov3.cfg yolov3.weights model_data/yolo.h5\")\n",
    "else:\n",
    "  print(\"Model exist\")"
   ]
  },
  {
   "cell_type": "code",
   "execution_count": null,
   "metadata": {},
   "outputs": [],
   "source": []
  }
 ]
}